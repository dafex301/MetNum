{
  "nbformat": 4,
  "nbformat_minor": 0,
  "metadata": {
    "colab": {
      "name": "NewtonRaphson2.ipynb",
      "provenance": []
    },
    "kernelspec": {
      "name": "python3",
      "display_name": "Python 3"
    },
    "language_info": {
      "name": "python"
    }
  },
  "cells": [
    {
      "cell_type": "code",
      "metadata": {
        "id": "iPMG_18xYpty"
      },
      "source": [
        "import math\n",
        "\n",
        "def newton_raphson(f, fder, x0, eps=0.000001, maxiter=200):\n",
        "  iterator = 0\n",
        "  while iterator < maxiter:\n",
        "    x_f = f(x0)\n",
        "    x_fder = fder(x0)\n",
        "    iterator = iterator + 1\n",
        "    x1 = x0 - (x_f/x_fder)\n",
        "    delta = abs(x1-x0)\n",
        "    \n",
        "    if delta <= eps:\n",
        "      return x1\n",
        "\n",
        "    x0 = x1\n",
        "    print(\"iteration \" + str(iterator) + \": \" + str(x0))\n",
        "\n",
        "  return x0"
      ],
      "execution_count": 1,
      "outputs": []
    },
    {
      "cell_type": "code",
      "metadata": {
        "id": "InbN74gdZlMo"
      },
      "source": [
        "def func(x):\n",
        "  return math.exp(x) + x**2 - 3*x - 2\n",
        "\n",
        "def dfunc(x):\n",
        "  return math.exp(x) + 2*x - 3"
      ],
      "execution_count": 2,
      "outputs": []
    },
    {
      "cell_type": "code",
      "metadata": {
        "colab": {
          "base_uri": "https://localhost:8080/"
        },
        "id": "TRHbUB20Zsu_",
        "outputId": "db8c63a6-b4a0-4067-8017-e7da441bcccd"
      },
      "source": [
        "print(\"Newton Raphson: \")\n",
        "r_n = newton_raphson(func, dfunc, 0.5)\n",
        "print(r_n)\n"
      ],
      "execution_count": 4,
      "outputs": [
        {
          "output_type": "stream",
          "name": "stdout",
          "text": [
            "Newton Raphson: \n",
            "iteration 1: -4.0584278117019945\n",
            "iteration 2: -1.6562290632789072\n",
            "iteration 3: -0.6919977392601224\n",
            "iteration 4: -0.4202195067143378\n",
            "iteration 5: -0.39064687066615095\n",
            "iteration 6: -0.3902717468398876\n",
            "-0.3902716861601105\n"
          ]
        }
      ]
    }
  ]
}