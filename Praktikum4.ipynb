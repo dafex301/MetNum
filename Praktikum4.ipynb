{
  "nbformat": 4,
  "nbformat_minor": 0,
  "metadata": {
    "colab": {
      "name": "Praktikum4.ipynb",
      "provenance": [],
      "collapsed_sections": []
    },
    "kernelspec": {
      "name": "python3",
      "display_name": "Python 3"
    },
    "language_info": {
      "name": "python"
    }
  },
  "cells": [
    {
      "cell_type": "code",
      "metadata": {
        "id": "XDy-rATrnicy"
      },
      "source": [
        "def pprint(A):\n",
        "  n = len(A)\n",
        "  for i in range(0,n):\n",
        "    line = \"\"\n",
        "    for j in range (0, n+1):\n",
        "      line += '%.4f' %A[i][j] + \"\\t\\t\"\n",
        "      if j == n-1:\n",
        "        line += \"| \"\n",
        "    print(line)\n",
        "  print(\"\")"
      ],
      "execution_count": 23,
      "outputs": []
    },
    {
      "cell_type": "code",
      "metadata": {
        "id": "LDU6l0RUoFTs"
      },
      "source": [
        "def gauss(A,n):\n",
        "  for i in range(0,n):\n",
        "    print('Perulangan ke-' + str(i))\n",
        "\n",
        "    # Mencari nilai maksimum dari kolom saat ini\n",
        "    maxEl = abs(A[i][i])\n",
        "    maxRow = i\n",
        "    for k in range (i+1, n):\n",
        "      if abs(A[k][i]) > maxEl:\n",
        "        maxEl = abs(A[k][i])\n",
        "        maxRow = k\n",
        "    \n",
        "    # Mencari baris maksimum dengan baris saat ini, kolom demi kolom\n",
        "    for k in range (i, n+1):\n",
        "      tmp = A[maxRow][k]\n",
        "      A[maxRow][k] = A[i][k]\n",
        "      A[i][k] = tmp\n",
        "    print('Mencetak baris setelah ditukar')\n",
        "    pprint(A)\n",
        "\n",
        "    for k in range(i+1, n):\n",
        "      c = -A[k][i]/A[i][i]\n",
        "      for j in range(i, n+1):\n",
        "        if i == j:\n",
        "          A[k][j] = 0\n",
        "        else:\n",
        "          A[k][j] += c * A[i][j]\n",
        "      print(\"Mencetak matriks setelah diubah nilainya\")\n",
        "      pprint(A)\n",
        "    \n",
        "    # Back Substitution\n",
        "  x = [0 for i in range(n)]\n",
        "  for i in range(n-1, -1, -1):\n",
        "    x[i] = A[i][n]/A[i][i]\n",
        "    for k in range(i-1, -1, -1):\n",
        "      A[k][n] -= A[k][i] * x[i]\n",
        "  return x"
      ],
      "execution_count": 25,
      "outputs": []
    },
    {
      "cell_type": "code",
      "metadata": {
        "colab": {
          "base_uri": "https://localhost:8080/"
        },
        "id": "pV_bXpSBqHHv",
        "outputId": "1d6e211c-9464-441f-faa1-150bb9378b8e"
      },
      "source": [
        "# Memasukkan data pada orde 2\n",
        "A = [[6,3.35,2.7679,3.147], [3.35,2.7679,2.596817,1.07246], [2.7679,2.596817,2.611396,0.6752736]]\n",
        "\n",
        "# Jumlah data\n",
        "n = len(A)\n",
        "\n",
        "# Cetak matriks awal\n",
        "print(\"Jumlah data: %d\" %n)\n",
        "pprint(A)\n",
        "\n",
        "# Menghitung solusi\n",
        "x = gauss(A, n)"
      ],
      "execution_count": 26,
      "outputs": [
        {
          "output_type": "stream",
          "name": "stdout",
          "text": [
            "Jumlah data: 3\n",
            "6.0000\t\t3.3500\t\t2.7679\t\t| 3.1470\t\t\n",
            "3.3500\t\t2.7679\t\t2.5968\t\t| 1.0725\t\t\n",
            "2.7679\t\t2.5968\t\t2.6114\t\t| 0.6753\t\t\n",
            "\n",
            "Perulangan ke-0\n",
            "Mencetak baris setelah ditukar\n",
            "6.0000\t\t3.3500\t\t2.7679\t\t| 3.1470\t\t\n",
            "3.3500\t\t2.7679\t\t2.5968\t\t| 1.0725\t\t\n",
            "2.7679\t\t2.5968\t\t2.6114\t\t| 0.6753\t\t\n",
            "\n",
            "Mencetak matriks setelah diubah nilainya\n",
            "6.0000\t\t3.3500\t\t2.7679\t\t| 3.1470\t\t\n",
            "0.0000\t\t0.8975\t\t1.0514\t\t| -0.6846\t\t\n",
            "2.7679\t\t2.5968\t\t2.6114\t\t| 0.6753\t\t\n",
            "\n",
            "Mencetak matriks setelah diubah nilainya\n",
            "6.0000\t\t3.3500\t\t2.7679\t\t| 3.1470\t\t\n",
            "0.0000\t\t0.8975\t\t1.0514\t\t| -0.6846\t\t\n",
            "0.0000\t\t1.0514\t\t1.3345\t\t| -0.7765\t\t\n",
            "\n",
            "Perulangan ke-1\n",
            "Mencetak baris setelah ditukar\n",
            "6.0000\t\t3.3500\t\t2.7679\t\t| 3.1470\t\t\n",
            "0.0000\t\t1.0514\t\t1.3345\t\t| -0.7765\t\t\n",
            "0.0000\t\t0.8975\t\t1.0514\t\t| -0.6846\t\t\n",
            "\n",
            "Mencetak matriks setelah diubah nilainya\n",
            "6.0000\t\t3.3500\t\t2.7679\t\t| 3.1470\t\t\n",
            "0.0000\t\t1.0514\t\t1.3345\t\t| -0.7765\t\t\n",
            "0.0000\t\t0.0000\t\t-0.0877\t\t| -0.0218\t\t\n",
            "\n",
            "Perulangan ke-2\n",
            "Mencetak baris setelah ditukar\n",
            "6.0000\t\t3.3500\t\t2.7679\t\t| 3.1470\t\t\n",
            "0.0000\t\t1.0514\t\t1.3345\t\t| -0.7765\t\t\n",
            "0.0000\t\t0.0000\t\t-0.0877\t\t| -0.0218\t\t\n",
            "\n"
          ]
        }
      ]
    },
    {
      "cell_type": "code",
      "metadata": {
        "colab": {
          "base_uri": "https://localhost:8080/"
        },
        "id": "r_CM8vMwsMC0",
        "outputId": "4f50057b-e1a2-4f63-a0ea-96fa8c4c6b08"
      },
      "source": [
        "# Cetak hasil\n",
        "print(\"Maka, hasil dari x1, x2, dan x3 adalah\")\n",
        "for i in range(0,n):\n",
        "  str(x[i])\n",
        "\n",
        "# Tabel\n",
        "from texttable import Texttable\n",
        "l = [[\"x1\", \"x2\", \"x3\"]]\n",
        "m = [[x[i-2], x[i-1], x[i]]]\n",
        "\n",
        "table = Texttable()\n",
        "table.set_cols_width([20,20,20])\n",
        "table.add_rows(l)\n",
        "print(table.draw())\n",
        "table.add_rows(m)\n",
        "print(table.draw())"
      ],
      "execution_count": 27,
      "outputs": [
        {
          "output_type": "stream",
          "name": "stdout",
          "text": [
            "Maka, hasil dari x1, x2, dan x3 adalah\n",
            "+----------------------+----------------------+----------------------+\n",
            "|          x1          |          x2          |          x3          |\n",
            "+======================+======================+======================+\n",
            "+----------------------+----------------------+----------------------+\n",
            "+----------------------+----------------------+----------------------+\n",
            "|  0.9983036412874231  |  -1.053896374438875  | 0.24846671001325643  |\n",
            "+======================+======================+======================+\n",
            "+----------------------+----------------------+----------------------+\n"
          ]
        }
      ]
    }
  ]
}