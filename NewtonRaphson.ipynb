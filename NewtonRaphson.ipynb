{
  "nbformat": 4,
  "nbformat_minor": 0,
  "metadata": {
    "colab": {
      "name": "NewtonRaphson.ipynb",
      "provenance": [],
      "collapsed_sections": []
    },
    "kernelspec": {
      "name": "python3",
      "display_name": "Python 3"
    },
    "language_info": {
      "name": "python"
    }
  },
  "cells": [
    {
      "cell_type": "code",
      "metadata": {
        "id": "o9Dg0Z7-Tfgi"
      },
      "source": [
        "import numpy as np\n",
        "import sympy\n",
        "import math\n",
        "\n",
        "def newton(f, f_prime, x0, tol = 1.e-6):\n",
        "  # Menggunakan metode newton untuk mencari akar x dari fungsi variabel tunggal f\n",
        "  MAX_STEPS = 200\n",
        "\n",
        "  x = x0\n",
        "  x_array = [x0]\n",
        "\n",
        "  for k in range (1, MAX_STEPS + 1):\n",
        "    x = x - f(x) / f_prime(x)\n",
        "    x_array.append(x)\n",
        "    if np.abs(f(x)) < tol:\n",
        "      break\n",
        "    if k == MAX_STEPS:\n",
        "      warnings.warn('Maximum number of steps exceeded')\n",
        "    return x, np.array(x_array)"
      ],
      "execution_count": 13,
      "outputs": []
    },
    {
      "cell_type": "code",
      "metadata": {
        "colab": {
          "base_uri": "https://localhost:8080/"
        },
        "id": "mcD0v_73UUwE",
        "outputId": "37904493-fa24-47b3-bfda-a0b5b3734b2c"
      },
      "source": [
        "# Mengatur fungsi sebagai fungsi lambda inline\n",
        "f = lambda x: x**2-2\n",
        "f_prime = lambda x: 2*x\n",
        "\n",
        "x0 = 1.3\n",
        "x, x_array = newton(f, f_prime, x0, tol=1.e-8)\n",
        "print('x = {}, f(x) = {}, Nsteps = {}'.format(x, f(x), len(x_array)))\n",
        "print(f_prime(x)*np.finfo('float').eps)"
      ],
      "execution_count": 9,
      "outputs": [
        {
          "output_type": "stream",
          "name": "stdout",
          "text": [
            "x = 1.4192307692307693, f(x) = 0.01421597633136118, Nsteps = 2\n",
            "6.302650709025889e-16\n"
          ]
        }
      ]
    },
    {
      "cell_type": "code",
      "metadata": {
        "colab": {
          "base_uri": "https://localhost:8080/"
        },
        "id": "JWkTMLasVE5p",
        "outputId": "74e21f5c-593f-4b4d-a1d2-e30c12008cb4"
      },
      "source": [
        "f = lambda x: math.exp(x) + x**2 - 3*x - 2\n",
        "f_prime = lambda x: math.exp(x) + 2*x - 3\n",
        "\n",
        "x0 = 0.7\n",
        "x, x_array = newton(f, f_prime, x0, tol=1.e-5)\n",
        "print('x = {}, f(x) = {}, Nsteps = {}'.format(x, f(x), len(x_array)))\n",
        "print(f_prime(x)*np.finfo('float').eps)"
      ],
      "execution_count": 17,
      "outputs": [
        {
          "output_type": "stream",
          "name": "stdout",
          "text": [
            "x = 4.557974252998511, f(x) = 100.4912544026644, Nsteps = 2\n",
            "2.2538858862977046e-14\n"
          ]
        }
      ]
    }
  ]
}