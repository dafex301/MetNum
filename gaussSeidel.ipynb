{
  "nbformat": 4,
  "nbformat_minor": 0,
  "metadata": {
    "colab": {
      "name": "gaussSeidel.ipynb",
      "provenance": []
    },
    "kernelspec": {
      "name": "python3",
      "display_name": "Python 3"
    },
    "language_info": {
      "name": "python"
    }
  },
  "cells": [
    {
      "cell_type": "code",
      "metadata": {
        "id": "1KxTosF3E3AD"
      },
      "source": [
        "# module gaussSeidel\n",
        "\"\"\"\n",
        "x = gaussSeidel (a,b)\n",
        "\"\"\"\n",
        "import numpy as np\n",
        "\n",
        "def gaussSeidel(a,b):\n",
        "  n = len(b)\n",
        "  x = np.zeros(n)\n",
        "  tol = 0.001\n",
        "  temp = 0\n",
        "\n",
        "  xold = x.copy()\n",
        "  for i in range(n):\n",
        "    for j in range(n):\n",
        "      if j != i:\n",
        "        temp += a[i,j]*x[j]\n",
        "    x[i] = (1/a[i,i])*(b[i]-temp)\n",
        "    temp = 0\n",
        "    print('x[i]', x[i])\n",
        "  while (abs(x[0]-xold[0])>tol):\n",
        "    xold = x.copy()\n",
        "    print('\\nxold:',xold)\n",
        "    for i in range(n):\n",
        "      for j in range(n):\n",
        "        if j != i:\n",
        "          temp += a[i,j]*x[j]\n",
        "      x[i] = (1/a[i,i])*(b[i]-temp)\n",
        "      temp = 0\n",
        "    print('x = ', x)"
      ],
      "execution_count": 4,
      "outputs": []
    },
    {
      "cell_type": "code",
      "metadata": {
        "colab": {
          "base_uri": "https://localhost:8080/"
        },
        "id": "pHZL6hK3Fftc",
        "outputId": "cc102fc6-1d4e-4e18-fdd4-30d3f0596ea8"
      },
      "source": [
        "A = np.array([[3 ,-0.1,-0.2],[0.1, 7 ,-0.3],[0.3,-0.2,10 ]])\n",
        "B = np.array([7.85,-19.3,71.4])\n",
        "\n",
        "print(gaussSeidel(A,B))\n"
      ],
      "execution_count": 5,
      "outputs": [
        {
          "output_type": "stream",
          "name": "stdout",
          "text": [
            "x[i] 2.6166666666666663\n",
            "x[i] -2.7945238095238096\n",
            "x[i] 7.005609523809524\n",
            "\n",
            "xold: [ 2.61666667 -2.79452381  7.00560952]\n",
            "x =  [ 2.99055651 -2.49962468  7.00029081]\n",
            "\n",
            "xold: [ 2.99055651 -2.49962468  7.00029081]\n",
            "x =  [ 3.0000319  -2.49998799  6.99999928]\n",
            "\n",
            "xold: [ 3.0000319  -2.49998799  6.99999928]\n",
            "x =  [ 3.00000035 -2.50000004  6.99999999]\n",
            "None\n"
          ]
        }
      ]
    }
  ]
}