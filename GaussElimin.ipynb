{
  "nbformat": 4,
  "nbformat_minor": 0,
  "metadata": {
    "colab": {
      "name": "GaussElimin.ipynb",
      "provenance": []
    },
    "kernelspec": {
      "name": "python3",
      "display_name": "Python 3"
    },
    "language_info": {
      "name": "python"
    }
  },
  "cells": [
    {
      "cell_type": "markdown",
      "metadata": {
        "id": "MQd0TwbovpIU"
      },
      "source": [
        "Simple Code\n"
      ]
    },
    {
      "cell_type": "code",
      "metadata": {
        "id": "sspXhQ4GuBH7"
      },
      "source": [
        "# module gaussElimin\n",
        "\"\"\" x = gaussElimin(a,b).\n",
        "Solves [a]{b} = {x} by Gauss elimination.\n",
        "\"\"\"\n",
        "import numpy as np\n",
        "#a = koefisien (nilai matrik depan variabel)\n",
        "#b = larik kanan (setelah sama dengan)\n",
        "\n",
        "def gaussElimin(a,b):\n",
        "  n = len(b) #jumlah baris/kolom\n",
        "  # Elimination Phase\n",
        "  for k in range(0,n-1):\n",
        "    for i in range(k+1,n):\n",
        "      if a[i,k] != 0.0:\n",
        "        lam = a [i,k]/a[k,k]\n",
        "        # print(lam)\n",
        "        a[i,k+1:n] = a[i,k+1:n] - lam*a[k,k+1:n]\n",
        "        # a[i,k+1] sampai a[i,n]\n",
        "        b[i] = b[i] - lam*b[k]\n",
        "\n",
        "  # Back substitution\n",
        "  # 3. 𝑢𝑛𝑡𝑢𝑘 𝑖 = 𝑛 − 1 sampai i=1\n",
        "  for k in range(n-1,-1,-1):\n",
        "    b[k] = (b[k] - np.dot(a[k,k+1:n],b[k+1:n]))/a[k,k]\n",
        "  return b"
      ],
      "execution_count": 13,
      "outputs": []
    },
    {
      "cell_type": "code",
      "metadata": {
        "colab": {
          "base_uri": "https://localhost:8080/"
        },
        "id": "dV1kQ-T2tiut",
        "outputId": "978da70b-2885-46b3-9c98-0efec0aa0b15"
      },
      "source": [
        "AA1 = np.array([[3 ,-0.1,-0.2],[0.1, 7 ,-0.3],[0.3,-0.2,10 ]])\n",
        "BB1 = np.array([7.85,-19.3,71.4])\n",
        "\n",
        "X = gaussElimin(AA1, BB1)\n",
        "print(X)"
      ],
      "execution_count": 14,
      "outputs": [
        {
          "output_type": "stream",
          "name": "stdout",
          "text": [
            "[ 3.  -2.5  7. ]\n"
          ]
        }
      ]
    },
    {
      "cell_type": "markdown",
      "metadata": {
        "id": "iHQoNOK9vrR2"
      },
      "source": [
        "More Detailed Code"
      ]
    },
    {
      "cell_type": "code",
      "metadata": {
        "colab": {
          "base_uri": "https://localhost:8080/"
        },
        "id": "m301sUkVvtnR",
        "outputId": "d972d34b-e8ba-4bbb-99a0-fb76863a07d8"
      },
      "source": [
        "def pprint(A):\n",
        "  n = len(A)\n",
        "  for i in range(0,n):\n",
        "    line = \"\"\n",
        "    for j in range(0,n+1):\n",
        "      line += str(A[i][j]) + \"\\t\"\n",
        "      if j == n-1:\n",
        "        line += \"| \"\n",
        "    print(line)\n",
        "    print(\"\")\n",
        "    \n",
        "def gauss(A,n):\n",
        "  for i in range(0,n):\n",
        "    print('Perulangan ke-' + str(i))\n",
        "\n",
        "    # Mencari nilai maksimum dari kolom saat ini\n",
        "    maxEl = abs(A[i][i])\n",
        "    maxRow = i\n",
        "    for k in range(i+1,n):\n",
        "      if abs(A[k][i]) > maxEl:\n",
        "        maxEl = abs(A[k][i])\n",
        "        maxRow = k\n",
        "\n",
        "    # Menukar baris maksimum dengan baris saat ini,kolom demi kolom\n",
        "    for k in range(i,n+1):\n",
        "      tmp = A[maxRow][k]\n",
        "      A[maxRow][k] = A[i][k]\n",
        "      A[i][k] = tmp\n",
        "    \n",
        "    print('Mencetak baris setelah ditukar: ' '\\n')\n",
        "    pprint(A)\n",
        "\n",
        "    # Membuat semua baris di bawah baris ini dan pada kolom ini menjadi 0\n",
        "    for k in range(i+1,n):\n",
        "      m = -A[k][i]/A[i][i]\n",
        "      m = round(m,2)\n",
        "      for j in range(i,n+1):\n",
        "        if i == j:\n",
        "          A[k][j] = 0\n",
        "        else:\n",
        "          A[k][j] += m * A[i][j]\n",
        "          A[k][j] = round(A[k][j],2)\n",
        "\n",
        "    print('Mencetak matriks setelah diubah nilainya')\n",
        "    pprint(A)\n",
        "\n",
        "    # Back substitution\n",
        "    x = [0 for i in range(n)]\n",
        "    for i in range(n-1,-1,-1):\n",
        "      x[i] = A[i][n]/A[i][i]\n",
        "      x[i] = round(x[i],2)\n",
        "      for k in range(i-1,-1,-1):\n",
        "        A[k][n] -= A[k][i] * x[i]\n",
        "\n",
        "    return x\n",
        "\n",
        "# Data masukan\n",
        "# Orde 3\n",
        "\n",
        "A = [[3,-0.1,-0.2,7.85],[0.1,7,-0.3,-19.3],[0.3,-0.2,10,71.4]]\n",
        "\n",
        "# Jumlah data\n",
        "n = len(A)\n",
        "\n",
        "# Cetak matriks awal\n",
        "print('Jumlah data: '+str(n))\n",
        "pprint(A)\n",
        "\n",
        "# Hitung solusi\n",
        "x = gauss(A,n)\n",
        "\n",
        "# Cetak hasil\n",
        "line = \"Hasil: \\t\"\n",
        "for i in range(0,n):\n",
        "  line += str(x[i])+\"\\t\"\n",
        "print(line)\n"
      ],
      "execution_count": 12,
      "outputs": [
        {
          "output_type": "stream",
          "name": "stdout",
          "text": [
            "Jumlah data: 3\n",
            "3\t-0.1\t-0.2\t| 7.85\t\n",
            "\n",
            "0.1\t7\t-0.3\t| -19.3\t\n",
            "\n",
            "0.3\t-0.2\t10\t| 71.4\t\n",
            "\n",
            "Perulangan ke-0\n",
            "Mencetak baris setelah ditukar: \n",
            "\n",
            "3\t-0.1\t-0.2\t| 7.85\t\n",
            "\n",
            "0.1\t7\t-0.3\t| -19.3\t\n",
            "\n",
            "0.3\t-0.2\t10\t| 71.4\t\n",
            "\n",
            "Mencetak matriks setelah diubah nilainya\n",
            "3\t-0.1\t-0.2\t| 7.85\t\n",
            "\n",
            "0\t7.0\t-0.29\t| -19.54\t\n",
            "\n",
            "0\t-0.19\t10.02\t| 70.62\t\n",
            "\n",
            "Hasil: \t3.0\t-2.5\t7.05\t\n"
          ]
        }
      ]
    }
  ]
}