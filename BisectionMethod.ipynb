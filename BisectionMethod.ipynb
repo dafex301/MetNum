{
  "cells": [
    {
      "cell_type": "code",
      "execution_count": 2,
      "metadata": {
        "id": "FWaBc0B-FbOh"
      },
      "outputs": [
        {
          "ename": "ModuleNotFoundError",
          "evalue": "No module named 'sympy'",
          "output_type": "error",
          "traceback": [
            "\u001b[1;31m---------------------------------------------------------------------------\u001b[0m",
            "\u001b[1;31mModuleNotFoundError\u001b[0m                       Traceback (most recent call last)",
            "\u001b[1;32m~\\AppData\\Local\\Temp/ipykernel_34884/2814022781.py\u001b[0m in \u001b[0;36m<module>\u001b[1;34m\u001b[0m\n\u001b[0;32m      2\u001b[0m \u001b[1;32mimport\u001b[0m \u001b[0mnumpy\u001b[0m \u001b[1;32mas\u001b[0m \u001b[0mnp\u001b[0m\u001b[1;33m\u001b[0m\u001b[1;33m\u001b[0m\u001b[0m\n\u001b[0;32m      3\u001b[0m \u001b[1;32mimport\u001b[0m \u001b[0mwarnings\u001b[0m\u001b[1;33m\u001b[0m\u001b[1;33m\u001b[0m\u001b[0m\n\u001b[1;32m----> 4\u001b[1;33m \u001b[1;32mimport\u001b[0m \u001b[0msympy\u001b[0m\u001b[1;33m\u001b[0m\u001b[1;33m\u001b[0m\u001b[0m\n\u001b[0m\u001b[0;32m      5\u001b[0m \u001b[1;32mimport\u001b[0m \u001b[0mmath\u001b[0m\u001b[1;33m\u001b[0m\u001b[1;33m\u001b[0m\u001b[0m\n\u001b[0;32m      6\u001b[0m \u001b[1;33m\u001b[0m\u001b[0m\n",
            "\u001b[1;31mModuleNotFoundError\u001b[0m: No module named 'sympy'"
          ]
        }
      ],
      "source": [
        "# Program\n",
        "import numpy as np\n",
        "import warnings\n",
        "import sympy\n",
        "import math\n",
        "\n",
        "def bisection(f, a, b, tol):\n",
        "  MAX_STEPS = 1000\n",
        "\n",
        "  # initialize\n",
        "  delta_x = b-a\n",
        "  c = a + delta_x / 2.0\n",
        "  c_array = [ c ]\n",
        "\n",
        "  f_a = f(a)\n",
        "  f_b = f(b)\n",
        "  f_c = f(c)\n",
        "\n",
        "  # Periksa kurung\n",
        "  if np.sign(f_a) == np.sign(f_b):\n",
        "    raise ValueError(\"tidak mengurung: f(a) dan f(b) harus memiliki tanda yang berbeda\")\n",
        "\n",
        "  # Loop sampai mencapai toleransi atau MAX_STEPS\n",
        "  for step in range(1, MAX_STEPS + 1):\n",
        "    # Periksa toleransi / bisa juga memeriksa ukuran delta_x\n",
        "    # Kita memeriksa ini terlebih dahulu karena kita telah menginisialisasi nilai dalam c dan f_c\n",
        "    if np.abs(f_c) < tol:\n",
        "      break\n",
        "    if np.sign(f_a) != np.sign(f_c):\n",
        "      b = c\n",
        "      f_b = f_c\n",
        "    else:\n",
        "      a = c\n",
        "      f_a = f_c\n",
        "    delta_x = b - a\n",
        "    c = a + delta_x / 2.0\n",
        "    f_c = f(c)\n",
        "    c_array.append(c)\n",
        "  if step == MAX_STEPS:\n",
        "    warnings.warn('Jumlah maksimum langkah yang terlampaui')\n",
        "\n",
        "  return c, np.array(c_array)\n",
        "\n",
        "\n"
      ]
    },
    {
      "cell_type": "code",
      "execution_count": null,
      "metadata": {
        "colab": {
          "base_uri": "https://localhost:8080/"
        },
        "id": "2q8IHiy6NaJg",
        "outputId": "4d59b723-da60-48bc-d1dc-ce490940d7a8"
      },
      "outputs": [
        {
          "name": "stdout",
          "output_type": "stream",
          "text": [
            "akar pada x = -0.3902587890625, f(x*) = -4.002811772085835e-05, 14 steps\n"
          ]
        }
      ],
      "source": [
        "# mengatur fungsi sebagai lambda inline\n",
        "f = lambda x: math.exp(x) + x**2 - 3*x - 2\n",
        "# interval awal\n",
        "a = -1.0\n",
        "b = 1.0\n",
        "tol = 0.0001\n",
        "# Mencari akar\n",
        "x_star, x_array = bisection(f, a, b, tol)\n",
        "print('akar pada x = {}, f(x*) = {}, {} steps'.format(x_star, f(x_star), len(x_array)))"
      ]
    }
  ],
  "metadata": {
    "colab": {
      "collapsed_sections": [],
      "name": "BisectionMethod.ipynb",
      "provenance": []
    },
    "interpreter": {
      "hash": "eb5b9ad281cd0e320a09bebebf09fee774ba006996728396cc4f8d3c336cbd13"
    },
    "kernelspec": {
      "display_name": "Python 3.9.7 64-bit (windows store)",
      "name": "python3"
    },
    "language_info": {
      "codemirror_mode": {
        "name": "ipython",
        "version": 3
      },
      "file_extension": ".py",
      "mimetype": "text/x-python",
      "name": "python",
      "nbconvert_exporter": "python",
      "pygments_lexer": "ipython3",
      "version": "3.9.7"
    }
  },
  "nbformat": 4,
  "nbformat_minor": 2
}
